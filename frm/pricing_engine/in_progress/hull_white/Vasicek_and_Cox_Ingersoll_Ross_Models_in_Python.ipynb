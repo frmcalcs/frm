{
 "cells": [
  {
   "cell_type": "markdown",
   "metadata": {},
   "source": [
    "# Vasicek and CIR models "
   ]
  },
  {
   "cell_type": "markdown",
   "metadata": {},
   "source": [
    "In this post, I discuss how to implement in Python the price of a Zero Coupon Bond with two very famous short term interest rate models, Vasicek and CIR\n",
    "\n",
    "Under the Vasicek and CIR model, the short rate is respectively assumed to satisfy the following stochastic diﬀerential equations\n",
    "\n",
    "$$ dr_t = k(\\theta - r_0)dt + \\sigma dW_t  $$\n",
    "\n",
    "and\n",
    "\n",
    "$$ dr_t = k(\\theta - r_0)dt +\\sigma \\sqrt r_t dW_t $$ \n",
    "\n",
    "where $k$, $\\theta$ and $\\sigma $ are constants, and $r_0$ is\n",
    "the current level of (short term) interest rates"
   ]
  },
  {
   "cell_type": "markdown",
   "metadata": {},
   "source": [
    "### Vasicek model\n",
    "\n",
    "The Vasicek model provides an analytical expression for the price of a zero coupon bond:\n",
    "\n",
    "\\begin{equation}\n",
    "P(0,\\tau) = A(\\tau) e^{-B(\\tau)r_0}\n",
    "\\end{equation}\n",
    "<br>\n",
    "\\begin{equation}\n",
    "A(\\tau) = exp{\\left[{{\\left(\\theta-\\frac{\\sigma^2}{2k^2}\\right)}(B(\\tau)-\\tau) }-\\frac{\\sigma^2B^2(\\tau)}{4k}\\right]}\n",
    "\\end{equation}\n",
    "<br>\n",
    "\\begin{equation}\n",
    "B(\\tau) = \\frac{1-e^{-k\\tau}}{k}\n",
    "\\end{equation}"
   ]
  },
  {
   "cell_type": "markdown",
   "metadata": {},
   "source": [
    "### CIR model\n",
    "\n",
    "The corresponding expression in the CIR is:\n",
    "\n",
    "\\begin{equation}\n",
    "P(0,\\tau) = A(\\tau) e^{-B(\\tau)r_0}\n",
    "\\end{equation}\n",
    "<br>\n",
    "\\begin{equation}\n",
    "A(\\tau) = {\\left(\\frac{2he^{0.5(h+\\tau)}}{2h+(h+k)(e^{h\\tau}-1)}\\right)}^{2k\\theta/\\sigma^2}\n",
    "\\end{equation}\n",
    "<br>\n",
    "\\begin{equation}\n",
    "B(\\tau) = \\frac{2(e^{h\\tau}-1)}{2h+(h+k)(e^{h\\tau}-1)}\n",
    "\\end{equation}\n",
    "<br>\n",
    "\\begin{equation}\n",
    "h = \\sqrt{k^2+2\\sigma^2}\n",
    "\\end{equation}"
   ]
  },
  {
   "cell_type": "markdown",
   "metadata": {},
   "source": [
    "### zero and forward rate under continuous compounding\n",
    "\n",
    "The zero rate for a term $\\tau$ is equal to\n",
    "\n",
    "\\begin{equation}\n",
    "s(\\tau) = -\\frac{log{P(0,\\tau)}}{\\tau}\n",
    "\\end{equation}\n",
    "\n",
    "whereas the forward rate can be obtained with one of the following equivalent formulae\n",
    "\n",
    "\\begin{equation}\n",
    "f(\\tau) = s(\\tau) + \\tau \\frac{ds(\\tau)}{d\\tau}\n",
    "\\end{equation}\n",
    "\n",
    "\\begin{equation}\n",
    "f(\\tau) = \\frac{\\frac{dP(0,\\tau)}{d\\tau}}{P(0,\\tau)}\n",
    "\\end{equation}\n",
    "\n",
    "\\begin{equation}\n",
    "f(\\tau) = \\frac{dlog(P(0,\\tau))}{d\\tau}\n",
    "\\end{equation}\n"
   ]
  },
  {
   "cell_type": "markdown",
   "metadata": {},
   "source": [
    "### Price of a zero coupon bond with forward rates\n",
    "\n",
    "The zero coupon bond price can be reconstructed using the forward rate as follows\n",
    "\n",
    "$$ P(0, \\tau) = \\exp\\left(-\\int_0^{\\tau}f(s)ds\\right)$$"
   ]
  },
  {
   "cell_type": "markdown",
   "metadata": {},
   "source": [
    "### Price of a zero coupon bond with simulating the short term interest rate\n",
    "\n",
    "I started by writing the sde's for both vasicek and cir model, and so I can also use the expectation of the discount factors from the sample of Monte-Carlo paths, to calculate the zero coupon bond price.\n",
    "\n",
    "$$P^{MC}(0,\\tau) = E_0\\left\\{ e^{-\\int_0^{\\tau} r^{MC}(u) du} \\right\\}$$\n",
    "\n",
    "where $r^{MC}(u)$ is the simulated path of the short term rate under the vasicek or cir model"
   ]
  },
  {
   "cell_type": "markdown",
   "metadata": {},
   "source": [
    "### Python implementation\n",
    "\n",
    "In python I implemented a $super$ class Bond, to deal with the calculation of the zero and forward rates, as well as calculating the monte carlo price. \n",
    "\n",
    "There are two $derived$ classes, $Vasicek$ and $CIR$,  which I use to $delegate$ the simulation of the short term rate $r_t$ with an $Euler$ scheme, and calculate the analytical price of a zcb under their respective sde's. They also contains some sanity checks methods, to ensure that the simulated paths are in line with the exptected short term rate  "
   ]
  },
  {
   "cell_type": "markdown",
   "metadata": {},
   "source": [
    "### Load libraries"
   ]
  },
  {
   "cell_type": "code",
   "execution_count": 1,
   "metadata": {},
   "outputs": [],
   "source": [
    "import numpy as np\n",
    "import numpy.random as npr\n",
    "import scipy.integrate as sciIntegr\n",
    "from scipy import integrate\n",
    "\n",
    "import matplotlib.pyplot as plt\n",
    "%matplotlib inline"
   ]
  },
  {
   "cell_type": "markdown",
   "metadata": {},
   "source": [
    "### a class to deal with payoffs"
   ]
  },
  {
   "cell_type": "code",
   "execution_count": 2,
   "metadata": {},
   "outputs": [],
   "source": [
    "class Payoff(object):\n",
    "    def __init__(self, K):\n",
    "        self.K = K\n",
    "    def f(self):\n",
    "        pass\n",
    "    \n",
    "class ZCBOption(Payoff):\n",
    "    def f(self, S):\n",
    "        return np.maximum(P - K,0)\n",
    "\n",
    "class ZCBValue(Payoff):\n",
    "    def f(self, S):\n",
    "        return S"
   ]
  },
  {
   "cell_type": "markdown",
   "metadata": {},
   "source": [
    "### class Bond "
   ]
  },
  {
   "cell_type": "code",
   "execution_count": 3,
   "metadata": {},
   "outputs": [],
   "source": [
    "class Bond(object):\n",
    "    def __init__(self, theta, kappa, sigma, r0=0.):\n",
    "        '''\n",
    "        r0    is the current level of rates\n",
    "        kappa is the speed of convergence\n",
    "        theta is the long term rate\n",
    "        sigma is the volatility    \n",
    "        '''\n",
    "        self.theta = theta\n",
    "        self.kappa = kappa\n",
    "        self.sigma = sigma\n",
    "        self.r0    = r0\n",
    "        self.dt    = 0.001\n",
    "    \n",
    "    def B(self, t, T):\n",
    "        pass\n",
    "    \n",
    "    def A(self, t, T): \n",
    "        pass\n",
    "    \n",
    "    def Exact_zcb(self, t, T):\n",
    "        pass\n",
    "    \n",
    "    def Euler(self, M, I, T):\n",
    "        pass\n",
    "    \n",
    "    def Yield(self, t, T, rate):\n",
    "        return -1/(T-t)*self.A(t,T) + 1/(T-t)*self.B(t,T)*rate\n",
    "    \n",
    "    def SpotRate(self, t, T) :\n",
    "        price = self.Exact_zcb(t, T)\n",
    "        time  = T - t\n",
    "        return (-np.log(price)/time)\n",
    "    \n",
    "    # Different ways to calculate the PV and cc Forward Rates \n",
    "    # 1    \n",
    "    def ForwardRate1(self, time):\n",
    "        up   = np.max(time + self.dt,0)\n",
    "        down = np.max(time - self.dt,0)        \n",
    "\n",
    "        r        = self.SpotRate(0, time)                        \n",
    "        dr       = self.SpotRate(0, up) - self.SpotRate(0, down)\n",
    "        dr_dt    = dr/(2*self.dt)         \n",
    "        fwd_rate = r + time * dr_dt\n",
    "        return fwd_rate\n",
    "    # 2\n",
    "    def ZCB_Forward_Integral1(self, t, T):    \n",
    "        val = integrate.quad(self.ForwardRate1, t, T)[0]\n",
    "        return np.exp(-val)\n",
    "    \n",
    "    def ForwardRate2(self, time):            \n",
    "        up   = np.max(time + self.dt,0)\n",
    "        down = np.max(time - self.dt,0)\n",
    "\n",
    "        dP       = self.Exact_zcb(0, down) - self.Exact_zcb(0, up)     \n",
    "        dP_dt    = dP/(2*self.dt)\n",
    "        P        = self.Exact_zcb(0, time)\n",
    "        fwd_rate = dP_dt/P\n",
    "        return fwd_rate\n",
    "    # 3\n",
    "    def ZCB_Forward_Integral2(self, t, T):                    \n",
    "        val = integrate.quad(self.ForwardRate2, t, T)[0]\n",
    "        return np.exp(-val)\n",
    "\n",
    "    def ForwardRate3(self, time):            \n",
    "        up       = np.max(time + self.dt,0)\n",
    "        down     = np.max(time - self.dt,0)\n",
    "\n",
    "        dP       = np.log(self.Exact_zcb(0, down)) - np.log(self.Exact_zcb(0, up))     \n",
    "        fwd_rate = dP/(2*self.dt)\n",
    "        return fwd_rate \n",
    "    \n",
    "    def ZCB_Forward_Integral3(self, t, T):                    \n",
    "        val = integrate.quad(self.ForwardRate3, t, T)[0]\n",
    "        return np.exp(-val)\n",
    "    \n",
    "    # Pricing with a sde\n",
    "    def StochasticPrice(self, VectorRates, VectorTime):  \n",
    "        # VectorRates is a two dimensional array:\n",
    "        # with simulated rates in columns and timesteps rates in rows\n",
    "        \n",
    "        # we do not need VectorRates and VectorTime at the beginning of the simulation as it is r0        \n",
    "        VectorRates = VectorRates[:-1,:]\n",
    "        VectorTime  = VectorTime[:-1]\n",
    "        \n",
    "        No_Sim = VectorRates.shape[1]\n",
    "         \n",
    "        price  = np.zeros(No_Sim)\n",
    "        for i in range(No_Sim):    \n",
    "            Rates    = VectorRates[:,i].T\n",
    "            price[i] = np.exp(-(sciIntegr.simps(Rates , VectorTime)))        \n",
    "        \n",
    "        RangeUp_Down   = np.sqrt(np.var(price))*1.96 / np.sqrt(No_Sim)\n",
    "        Mean = np.mean(price)\n",
    "                \n",
    "        return Mean,  Mean + RangeUp_Down, Mean - RangeUp_Down\n",
    "        \n",
    "    def FutureZCB(self,M, I, T_0, T_M, Bond):  \n",
    "        \n",
    "        self.Euler(M, I, T_0)        \n",
    "        bond = Bond    \n",
    "        \n",
    "        # we do not need VectorRates and VectorTime at the beginning of the simulation as it is r0        \n",
    "        VectorRates = self.rates[:-1,:]\n",
    "        VectorTime  = self.times[:-1]\n",
    "        \n",
    "        No_Sim = VectorRates.shape[1]\n",
    "         \n",
    "        price          = np.zeros(No_Sim)\n",
    "        priceUntil_FO  = np.zeros(No_Sim)\n",
    "        Payoff         = np.zeros(No_Sim)\n",
    "        R0             = np.zeros(No_Sim)\n",
    "        for i in range(No_Sim):    \n",
    "            Rates      = VectorRates[:,i].T\n",
    "            R0[i]      = Rates[-1]\n",
    "            Yield      = self.Yield(T_0, T_M, Rates[-1])\n",
    "            ZCBPrice   = np.exp(-Yield*(T_M-T_0)) \n",
    "            Payoff[i]  = bond.f(ZCBPrice)    \n",
    "            price[i]   = np.exp(-(sciIntegr.simps(Rates , VectorTime)))*Payoff[i]      \n",
    "            priceUntil_FO[i]  = np.exp(-(sciIntegr.simps(Rates , VectorTime)))\n",
    "        \n",
    "        RangeUp_Down   = np.sqrt(np.var(price))*1.96 / np.sqrt(No_Sim)\n",
    "        Mean     = np.mean(price)\n",
    "        MeanRate = np.mean(R0)\n",
    "        FWDValue = np.mean(Payoff)\n",
    "        MeanValueUntil_FO = np.mean(priceUntil_FO)\n",
    "        return Mean,  Mean + RangeUp_Down, Mean - RangeUp_Down, FWDValue, MeanValueUntil_FO, MeanRate\n",
    "    \n",
    "    def ExpectedRate(self,t, T):\n",
    "        pass\n",
    "    \n",
    "    def VarianceRate(self,t, T):\n",
    "        pass\n",
    "\n",
    "    def PlotEulerSim(self,Text, No_of_Sim = 10):        \n",
    "        # We plot the first No_of_Sim simulated paths \n",
    "        \n",
    "        plt.plot(self.times, self.rates[:, :No_of_Sim], lw=1.5)\n",
    "        plt.xlabel('time - yrs')  \n",
    "        plt.ylabel('rates level')\n",
    "        plt.grid(True)\n",
    "        plt.title(Text + ' - the first {}'.format(No_of_Sim) + \" Simulated Paths\");\n",
    "        plt.show()\n",
    "\n",
    "    def PlotEulerSim_Stats(self, Text):        \n",
    "        # We plot and compare the average simulation +-2 sd of all time steps vs. what we expect from the model\n",
    "        \n",
    "        SimAverage  = np.mean(self.rates, 1)\n",
    "        SimSD       = np.sqrt(np.var(self.rates, 1))\n",
    "        AnalyAverage= np.asarray([self.ExpectedRate(0, i) for i in self.times])\n",
    "        AnalySD     = np.asarray([np.sqrt(self.VarianceRate(0, i)) for i in self.times])\n",
    "        \n",
    "        plt.plot(self.times, SimAverage,           lw=1.5, label ='Sim Mean',linestyle=':')\n",
    "        #plt.plot(self.times, SimAverage + 2*SimSD, lw=1.5, label ='Sim Mean + 2*SD',linestyle=':')\n",
    "        #plt.plot(self.times, SimAverage - 2*SimSD, lw=1.5, label ='Sim Mean - 2*SD',linestyle=':')\n",
    "        \n",
    "        plt.plot(self.times, AnalyAverage,             lw=1.5, label ='Analy Mean',linestyle='-')\n",
    "        #plt.plot(self.times, AnalyAverage + 2*AnalySD, lw=1.5, label ='Analy Mean + 2*SD',linestyle='-.')\n",
    "        #plt.plot(self.times, AnalyAverage - 2*AnalySD, lw=1.5, label ='Analy Mean - 2*SD',linestyle='-.')\n",
    "                \n",
    "        plt.legend()\n",
    "        \n",
    "        plt.xlabel('time - yrs')  \n",
    "        plt.ylabel('rates')\n",
    "        plt.grid(True)        \n",
    "        plt.title(Text);        \n",
    "        plt.show()"
   ]
  },
  {
   "cell_type": "markdown",
   "metadata": {},
   "source": [
    "### derived Vasicek class "
   ]
  },
  {
   "cell_type": "code",
   "execution_count": 4,
   "metadata": {},
   "outputs": [],
   "source": [
    "class Vasicek(Bond):\n",
    "    def __init__(self, theta, kappa, sigma, r0=0.):\n",
    "        Bond.__init__(self, theta, kappa, sigma, r0)\n",
    "    \n",
    "    def B(self, t, T):\n",
    "        return (1 - np.exp(-self.kappa*(T-t))) / self.kappa\n",
    "    \n",
    "    def A(self, t, T): \n",
    "        return ((self.theta-(self.sigma**2)/(2*(self.kappa**2))) *(self.B(t, T)-(T-t)) \\\n",
    "                   -  (self.sigma**2)/(4*self.kappa)*(self.B(t, T)**2))\n",
    "                \n",
    "    def Exact_zcb(self, t, T):      \n",
    "        B = self.B(t, T)\n",
    "        A = self.A(t, T)\n",
    "        return np.exp(A-self.r0*B)\n",
    "\n",
    "    def Euler(self, M, I, tau):\n",
    "        # I is the number of simulation\n",
    "        # M is the number of time steps until maturity\n",
    "        # tau is the maturity        \n",
    "        dt = tau / float(M)\n",
    "\n",
    "        M  = int(M)\n",
    "        I  = int(I)\n",
    "        xh = np.zeros((M + 1, I))\n",
    "        self.rates = np.zeros_like(xh)\n",
    "        self.times = np.linspace(0, tau, num = M + 1)\n",
    "        \n",
    "        xh[0]     = self.r0\n",
    "        for t in range(1, M + 1):\n",
    "            xh[t] = (xh[t - 1] + \n",
    "                  self.kappa * (self.theta - xh[t - 1]) * dt + \\\n",
    "                  self.sigma * np.sqrt(dt) * npr.standard_normal(I))\n",
    "        self.rates = xh\n",
    "        return 0\n",
    "    \n",
    "    def ExpectedRate(self,t, T):\n",
    "        result = self.r0 * np.exp(-self.kappa*(T-t)) + self.theta*(1-np.exp(-self.kappa*(T-t))) \n",
    "        return result\n",
    "    \n",
    "    def VarianceRate(self,t, T):\n",
    "        result = self.sigma**2/(self.kappa * 2) * (1- np.exp(- 2*self.kappa*(T-t)))\n",
    "        return result"
   ]
  },
  {
   "cell_type": "markdown",
   "metadata": {},
   "source": [
    "### derived CIR class "
   ]
  },
  {
   "cell_type": "code",
   "execution_count": 5,
   "metadata": {},
   "outputs": [],
   "source": [
    "class CIR(Bond):\n",
    "    def __init__(self, theta, kappa, sigma, r0=0.):\n",
    "        Bond.__init__(self, theta, kappa, sigma, r0)\n",
    "    \n",
    "    def B(self, t, T):\n",
    "        tau = T-t # tau is the maturity\n",
    "        h   = np.sqrt(self.kappa**2 + 2*self.sigma**2)\n",
    "        den = (2*h +(h + self.kappa)* (np.exp(h*tau) - 1))        \n",
    "        B   = 2*(np.exp(h*tau) - 1) / den\n",
    "        return B\n",
    "    \n",
    "    def A(self, t, T):\n",
    "        tau = T-t # tau is the maturity\n",
    "        h   = np.sqrt(self.kappa**2 + 2*self.sigma**2)\n",
    "        den = (2*h +(h + self.kappa)* (np.exp(h*tau) - 1))        \n",
    "        \n",
    "        A   = (2*h*(np.exp(0.5*(h + self.kappa)*tau)) / den)**(2*self.kappa*self.theta/(self.sigma**2))   \n",
    "        return np.log(A)\n",
    "                    \n",
    "    def Exact_zcb(self, t, T):        \n",
    "        B   = self.B(t,T)\n",
    "        A   = self.A(t,T)\n",
    "        return np.exp(A-self.r0*B)\n",
    "        \n",
    "    def ExpectedRate(self,t, T):\n",
    "        tau = T-t\n",
    "        result = self.r0 * np.exp(-self.kappa*tau) + self.theta*(1-np.exp(-self.kappa*tau)) \n",
    "        return result\n",
    "    \n",
    "    def VarianceRate(self,t, T):\n",
    "        tau = T-t\n",
    "        result = (self.sigma**2*self.theta)/(self.kappa * 2) * \\\n",
    "            ((1- np.exp(-self.kappa*tau))**2) + \\\n",
    "            self.sigma**2*self.r0/self.kappa*(np.exp(-self.kappa*tau) \\\n",
    "                                              - np.exp(-2*self.kappa*tau))\n",
    "        return result\n",
    "    \n",
    "    def Euler(self, M, I, T):\n",
    "        # I is the number of simulation\n",
    "        # M is the number of time steps until maturity\n",
    "        # T is the maturity        \n",
    "        dt = T / float(M)\n",
    "\n",
    "        M  = int(M)\n",
    "        I  = int(I)\n",
    "        xh = np.zeros((M + 1, I))\n",
    "        self.rates = np.zeros_like(xh)\n",
    "        self.times = np.linspace(0, T, num = M + 1)\n",
    "        \n",
    "        xh[0]     = self.r0\n",
    "        for t in range(1, M + 1):\n",
    "            xh[t] = (xh[t - 1] + \n",
    "                        kappa * (theta - xh[t - 1]) * dt +\n",
    "                        sigma * np.sqrt(np.maximum(xh[t - 1], 0)) * np.sqrt(dt) \\\n",
    "                        * npr.standard_normal(I))\n",
    " \n",
    "        self.rates = xh\n",
    "        return 0   "
   ]
  },
  {
   "cell_type": "markdown",
   "metadata": {},
   "source": [
    "### Vasicek"
   ]
  },
  {
   "cell_type": "markdown",
   "metadata": {},
   "source": [
    "Let's practice with the analytical expression of the vasicek model"
   ]
  },
  {
   "cell_type": "code",
   "execution_count": 6,
   "metadata": {},
   "outputs": [],
   "source": [
    "r0    = 0.05 # current level of rates\n",
    "kappa = 3.0  # speed of convergence\n",
    "theta = 0.02 # long term rate\n",
    "sigma = 0.15 # vol    \n",
    "\n",
    "tau   = 5    # maturity of the ZCB"
   ]
  },
  {
   "cell_type": "markdown",
   "metadata": {},
   "source": [
    "### Using the analytic expression of a zero coupon bond, we have"
   ]
  },
  {
   "cell_type": "code",
   "execution_count": 7,
   "metadata": {},
   "outputs": [
    {
     "name": "stdout",
     "output_type": "stream",
     "text": [
      "0.9008874042796438\n"
     ]
    }
   ],
   "source": [
    "vasicek = Vasicek(theta, kappa, sigma,r0)\n",
    "print(vasicek.Exact_zcb(0, tau))"
   ]
  },
  {
   "cell_type": "code",
   "execution_count": 8,
   "metadata": {},
   "outputs": [
    {
     "name": "stdout",
     "output_type": "stream",
     "text": [
      "0.9715756377800985\n",
      "0.028836156499384966\n",
      "0.03518625780860407\n",
      "0.028836156499384966\n",
      "0.0257531188319188\n",
      "0.024049074065731868\n"
     ]
    }
   ],
   "source": [
    "print(vasicek.Exact_zcb(0,1))\n",
    "print(vasicek.SpotRate(0, 1))\n",
    "for i in [0.5,1,1.5,2]:\n",
    "    print(vasicek.SpotRate(0, i))"
   ]
  },
  {
   "cell_type": "markdown",
   "metadata": {},
   "source": [
    "### Which is the same as discouting the integral of the forward rate over the period 0, $\\tau$\n",
    "\n",
    "... a way to check that the forward rate can be obtained with three equivalent formulae (see introduction)"
   ]
  },
  {
   "cell_type": "code",
   "execution_count": 9,
   "metadata": {},
   "outputs": [
    {
     "name": "stdout",
     "output_type": "stream",
     "text": [
      "0.9008874108448566\n",
      "0.9008873902738813\n",
      "0.9008873907663235\n"
     ]
    }
   ],
   "source": [
    "print(vasicek.ZCB_Forward_Integral1(0, tau))\n",
    "print(vasicek.ZCB_Forward_Integral2(0, tau))\n",
    "print(vasicek.ZCB_Forward_Integral3(0, tau))"
   ]
  },
  {
   "cell_type": "markdown",
   "metadata": {},
   "source": [
    "But we can also do the following"
   ]
  },
  {
   "cell_type": "code",
   "execution_count": 10,
   "metadata": {},
   "outputs": [
    {
     "name": "stdout",
     "output_type": "stream",
     "text": [
      "0.900887404387224\n",
      "0.9008874042785645\n",
      "0.9008874042795567\n",
      "0.9008874042796438\n"
     ]
    }
   ],
   "source": [
    "print(vasicek.Exact_zcb(0, tau -1)*vasicek.ZCB_Forward_Integral1(tau - 1, tau))\n",
    "print(vasicek.Exact_zcb(0, tau -1)*vasicek.ZCB_Forward_Integral2(tau - 1, tau))\n",
    "print(vasicek.Exact_zcb(0, tau -1)*vasicek.ZCB_Forward_Integral3(tau - 1, tau))\n",
    "print(vasicek.Exact_zcb(0, tau))"
   ]
  },
  {
   "cell_type": "markdown",
   "metadata": {},
   "source": [
    "We the constant parameters above, the vasicek short term rate converges rapidly to its long term mean $\\theta$"
   ]
  },
  {
   "cell_type": "code",
   "execution_count": 11,
   "metadata": {},
   "outputs": [
    {
     "name": "stdout",
     "output_type": "stream",
     "text": [
      "0.02149361205103592\n",
      "0.020074362565299993\n",
      "0.020003702294122603\n",
      "0.02\n"
     ]
    }
   ],
   "source": [
    "print(vasicek.ExpectedRate(0, 1)) \n",
    "print(vasicek.ExpectedRate(0, 2)) \n",
    "print(vasicek.ExpectedRate(0, 3)) \n",
    "print(theta) "
   ]
  },
  {
   "cell_type": "markdown",
   "metadata": {},
   "source": [
    "and the following are equivalent!!"
   ]
  },
  {
   "cell_type": "code",
   "execution_count": 12,
   "metadata": {},
   "outputs": [
    {
     "name": "stdout",
     "output_type": "stream",
     "text": [
      "0.9715756377800985\n",
      "0.9715756377800985\n"
     ]
    }
   ],
   "source": [
    "print(vasicek.Exact_zcb(0, 1))\n",
    "print(vasicek.Exact_zcb(1, 2))"
   ]
  },
  {
   "cell_type": "markdown",
   "metadata": {},
   "source": [
    "### Now, let's simulating the vasicek sde and price a zero coupon bond"
   ]
  },
  {
   "cell_type": "code",
   "execution_count": 13,
   "metadata": {},
   "outputs": [],
   "source": [
    "# So we always use the same random numbers\n",
    "npr.seed(1500)\n",
    "\n",
    "I = 100000    # no. of simulations\n",
    "M = tau * 252 # trading day per annum"
   ]
  },
  {
   "cell_type": "code",
   "execution_count": 14,
   "metadata": {},
   "outputs": [],
   "source": [
    "vasicek.Euler(M, I, tau)\n",
    "vals = vasicek.StochasticPrice(vasicek.rates, vasicek.times)"
   ]
  },
  {
   "cell_type": "code",
   "execution_count": 15,
   "metadata": {},
   "outputs": [
    {
     "name": "stdout",
     "output_type": "stream",
     "text": [
      "the MC price is        : 0.9008\n",
      "the MC price+1.96sd is : 0.9014\n",
      "the MC price-1.96sd is : 0.9002\n",
      "the Analytic price is  : 0.9009\n"
     ]
    }
   ],
   "source": [
    "print(\"the MC price is        :\", np.round(vals[0],4))\n",
    "print(\"the MC price+1.96sd is :\", np.round(vals[1],4))\n",
    "print(\"the MC price-1.96sd is :\", np.round(vals[2],4))\n",
    "print(\"the Analytic price is  :\" , np.round(vasicek.Exact_zcb(0,tau),4))"
   ]
  },
  {
   "cell_type": "markdown",
   "metadata": {},
   "source": [
    "We the constant parameters above, the vasicek short term rate converges rapidly to its long term mean $\\theta$"
   ]
  },
  {
   "cell_type": "code",
   "execution_count": 16,
   "metadata": {},
   "outputs": [
    {
     "name": "stdout",
     "output_type": "stream",
     "text": [
      "0.02149361205103592\n",
      "0.020074362565299993\n",
      "0.020003702294122603\n",
      "0.02\n"
     ]
    }
   ],
   "source": [
    "print(vasicek.ExpectedRate(0, 1)) \n",
    "print(vasicek.ExpectedRate(0, 2)) \n",
    "print(vasicek.ExpectedRate(0, 3)) \n",
    "print(theta) "
   ]
  },
  {
   "cell_type": "markdown",
   "metadata": {},
   "source": [
    "We can now compare the average and standard deviation of the simulated paths (over time) against conditional expectation and standard deviation of the vasicek model, indicated in the grapf below as $Analy$.  "
   ]
  },
  {
   "cell_type": "code",
   "execution_count": 17,
   "metadata": {},
   "outputs": [
    {
     "data": {
      "image/png": "[encoded data removed]",
      "text/plain": [
       "<Figure size 432x288 with 1 Axes>"
      ]
     },
     "metadata": {},
     "output_type": "display_data"
    }
   ],
   "source": [
    "vasicek.PlotEulerSim_Stats(\"Vasicek: Simulation vs Analytical\") "
   ]
  },
  {
   "cell_type": "code",
   "execution_count": 18,
   "metadata": {},
   "outputs": [
    {
     "data": {
      "image/png": "[encoded data removed]",
      "text/plain": [
       "<Figure size 432x288 with 1 Axes>"
      ]
     },
     "metadata": {},
     "output_type": "display_data"
    }
   ],
   "source": [
    "vasicek.PlotEulerSim(\"Vasicek: Simulations \")"
   ]
  },
  {
   "cell_type": "markdown",
   "metadata": {},
   "source": [
    "We can also use the following\n",
    "\n",
    "\\begin{equation}\n",
    "Y(t,T) = -\\frac{A(t,T)}{T-t} + \\frac{B(t,T)}{T-t}r_t\n",
    "\\end{equation}\n",
    "\n",
    "together with simulating $dr_t$\n",
    "\n",
    "For example, we can simulate $dr_t$ for one year, then calculate the $4yr$ yield $Y(1,5)$, and finally the value of a ZCB with a remaining maturity of 4 years\n",
    "\n",
    "\\begin{equation}\n",
    "ZCB(1,5) = e^{-Y(1,5)4}\n",
    "\\end{equation}"
   ]
  },
  {
   "cell_type": "markdown",
   "metadata": {},
   "source": [
    "The short term rate, $r_t$, in one year is expected to be "
   ]
  },
  {
   "cell_type": "code",
   "execution_count": 19,
   "metadata": {},
   "outputs": [
    {
     "name": "stdout",
     "output_type": "stream",
     "text": [
      "Short term is expected to be at: 0.0215\n"
     ]
    }
   ],
   "source": [
    "vasicek.r0 = vasicek.ExpectedRate(0, 1) \n",
    "print (\"Short term is expected to be at:\", np.round(vasicek.r0,4))"
   ]
  },
  {
   "cell_type": "markdown",
   "metadata": {},
   "source": [
    "So we expect the ZCB to have a value of"
   ]
  },
  {
   "cell_type": "code",
   "execution_count": 20,
   "metadata": {},
   "outputs": [
    {
     "name": "stdout",
     "output_type": "stream",
     "text": [
      "0.9267023425939951\n",
      "0.9267023425939951\n",
      "0.019030715626121585\n"
     ]
    }
   ],
   "source": [
    "print(vasicek.Exact_zcb(0, 4))\n",
    "newYield = vasicek.Yield(0, 4, vasicek.r0) \n",
    "# or as\n",
    "print(np.exp(-newYield*(4)))\n",
    "FwdPrice = np.exp(-newYield*(4))\n",
    "# with a yield or spot rate with maturity of 4 years of\n",
    "print(newYield)"
   ]
  },
  {
   "cell_type": "markdown",
   "metadata": {},
   "source": [
    "Before starting let's reset $r_0$"
   ]
  },
  {
   "cell_type": "code",
   "execution_count": 21,
   "metadata": {},
   "outputs": [],
   "source": [
    "vasicek.r0 = 0.05"
   ]
  },
  {
   "cell_type": "code",
   "execution_count": 22,
   "metadata": {},
   "outputs": [],
   "source": [
    "# So we always use the same random numbers\n",
    "npr.seed(1500)\n",
    "\n",
    "M   = tau * 252 # trading day per annum\n",
    "T_M = 5\n",
    "T_O = 1\n",
    "\n",
    "BondValue = ZCBValue(0) # an instance of class ZCBValue, to model the payoff value at year 1    \n",
    "vals = vasicek.FutureZCB(M,I, 1, 5, BondValue)"
   ]
  },
  {
   "cell_type": "code",
   "execution_count": 23,
   "metadata": {},
   "outputs": [
    {
     "name": "stdout",
     "output_type": "stream",
     "text": [
      "------------------------------------------------------\n",
      "the MC price of a ZCB maturing in: 5 years is: 0.9008\n",
      "------------------------------------------------------\n",
      "the MC price +2sd is : 0.9010541658733731\n",
      "the MC price -2sd is : 0.9004956901305854\n",
      "the Price in 1 year of a ZCB price maturing in 5 years is 0.9268\n",
      "the MC price of a ZCB maturing in: 1 year is        0.9715\n",
      "------------------------------------------------------\n",
      "Matching the following : 0.9004\n",
      "------------------------------------------------------\n",
      "The MC Expected short term rate in 1 year is                         0.0217\n",
      "The Analytical Expected short term rate in 1 year is expected to be  0.0215\n"
     ]
    }
   ],
   "source": [
    "print( \"------------------------------------------------------\")\n",
    "print(\"the MC price of a ZCB maturing in:\",T_M, \"years is:\", np.round(vals[0],4))\n",
    "print( \"------------------------------------------------------\")\n",
    "print(\"the MC price +2sd is :\", vals[1])\n",
    "print(\"the MC price -2sd is :\", vals[2])\n",
    "print(\"the Price in\",T_O,\"year of a ZCB price maturing in\",T_M,\"years is\", np.round(vals[3],4))\n",
    "\n",
    "print(\"the MC price of a ZCB maturing in:\",T_O, \"year is       \", np.round(vals[4],4))\n",
    "print( \"------------------------------------------------------\")\n",
    "print(\"Matching the following :\", np.round(vals[4]*vals[3],4))\n",
    "print( \"------------------------------------------------------\")\n",
    "print(\"The MC Expected short term rate in\",T_O,\"year is                        \", np.round(vals[5],4))\n",
    "print(\"The Analytical Expected short term rate in\",T_O,\"year is expected to be \", np.round(vasicek.ExpectedRate(0, 1),4))\n"
   ]
  },
  {
   "cell_type": "markdown",
   "metadata": {},
   "source": [
    "#### Let's check"
   ]
  },
  {
   "cell_type": "code",
   "execution_count": 24,
   "metadata": {},
   "outputs": [
    {
     "name": "stdout",
     "output_type": "stream",
     "text": [
      "0.9715756377800985\n"
     ]
    },
    {
     "data": {
      "text/plain": [
       "0.971515"
      ]
     },
     "execution_count": 24,
     "metadata": {},
     "output_type": "execute_result"
    }
   ],
   "source": [
    "# the price of a ZCB maturing in 1 year is very close\n",
    "print(vasicek.Exact_zcb(0, 1))\n",
    "# vs\n",
    "np.round(vals[4],6)"
   ]
  },
  {
   "cell_type": "code",
   "execution_count": 25,
   "metadata": {},
   "outputs": [
    {
     "data": {
      "text/plain": [
       "0.9267023425939951"
      ]
     },
     "execution_count": 25,
     "metadata": {},
     "output_type": "execute_result"
    }
   ],
   "source": [
    "# we previously calculated the Future Value in one year of a bond with a remaining maturity of 4 years\n",
    "FwdPrice"
   ]
  },
  {
   "cell_type": "code",
   "execution_count": 26,
   "metadata": {},
   "outputs": [
    {
     "name": "stdout",
     "output_type": "stream",
     "text": [
      "the MC price of a ZCB maturing in: 1 year is: 0.92684\n"
     ]
    }
   ],
   "source": [
    "# vs a MC value of\n",
    "print(\"the MC price of a ZCB maturing in:\",T_O, \"year is:\", np.round(vals[3],5))"
   ]
  },
  {
   "cell_type": "code",
   "execution_count": 27,
   "metadata": {},
   "outputs": [
    {
     "name": "stdout",
     "output_type": "stream",
     "text": [
      "0.9008874042796438\n"
     ]
    },
    {
     "data": {
      "text/plain": [
       "0.900775"
      ]
     },
     "execution_count": 27,
     "metadata": {},
     "output_type": "execute_result"
    }
   ],
   "source": [
    "# the ZCB maturing in 5 years is\n",
    "print(vasicek.Exact_zcb(0, 5))\n",
    "# vs the MC price of\n",
    "np.round(vals[0],6)"
   ]
  },
  {
   "cell_type": "markdown",
   "metadata": {},
   "source": [
    "Let's run some extra CHECKs, using the Forward Price.\n",
    "\n",
    "Using the Forward Price (as calculated few steps above) we would expect now a ZCB with a 5 year maturity"
   ]
  },
  {
   "cell_type": "code",
   "execution_count": 28,
   "metadata": {},
   "outputs": [
    {
     "data": {
      "text/plain": [
       "0.9003614195380721"
      ]
     },
     "execution_count": 28,
     "metadata": {},
     "output_type": "execute_result"
    }
   ],
   "source": [
    "FwdPrice*vasicek.Exact_zcb(0, 1)"
   ]
  },
  {
   "cell_type": "markdown",
   "metadata": {},
   "source": [
    "vs our MC value of"
   ]
  },
  {
   "cell_type": "code",
   "execution_count": 29,
   "metadata": {},
   "outputs": [
    {
     "data": {
      "text/plain": [
       "0.9007749280019792"
      ]
     },
     "execution_count": 29,
     "metadata": {},
     "output_type": "execute_result"
    }
   ],
   "source": [
    "vals[0]"
   ]
  },
  {
   "cell_type": "markdown",
   "metadata": {},
   "source": [
    "They are very close!!"
   ]
  },
  {
   "cell_type": "markdown",
   "metadata": {},
   "source": [
    "### But remeber there is a covariance effect with this check:\n",
    "$$E[XY] = E[X]E[Y]+cov(X,Y)$$"
   ]
  },
  {
   "cell_type": "markdown",
   "metadata": {},
   "source": [
    "$$P^{MC}(0,t;T) = E_0\\left\\{ G(t,T)e^{-\\int_0^{t} r^{MC}(u) du} \\right\\}$$\n",
    "$$= E_0[G(t,T)] * E_0\\left\\{e^{-\\int_0^{t} r^{MC}(u) du} \\right\\} + Cov\\left\\{ G(t,T),e^{-\\int_0^{t} r^{MC}(u) du} \\right\\}$$\n",
    "\n",
    "where \n",
    "the check we implemented was $E_0[G(t,T)] * E_0\\left\\{e^{-\\int_0^{t} r^{MC}(u) du} \\right\\} $"
   ]
  },
  {
   "cell_type": "markdown",
   "metadata": {},
   "source": [
    "We can measure the covariance effect this way:"
   ]
  },
  {
   "cell_type": "code",
   "execution_count": 30,
   "metadata": {},
   "outputs": [
    {
     "data": {
      "text/plain": [
       "-0.00041"
      ]
     },
     "execution_count": 30,
     "metadata": {},
     "output_type": "execute_result"
    }
   ],
   "source": [
    "np.round(FwdPrice*vasicek.Exact_zcb(0, 1) - vals[0],5)"
   ]
  },
  {
   "cell_type": "markdown",
   "metadata": {},
   "source": [
    "and note again the short term rate in one year as per MC vs the analytical expectation "
   ]
  },
  {
   "cell_type": "code",
   "execution_count": 31,
   "metadata": {},
   "outputs": [
    {
     "name": "stdout",
     "output_type": "stream",
     "text": [
      "The MC Expected short term rate in 1 year is                         0.0217\n",
      "The Analytical Expected short term rate in 1 year is expected to be  0.0215\n"
     ]
    }
   ],
   "source": [
    "print(\"The MC Expected short term rate in\",T_O,\"year is                        \", np.round(vals[5],4))\n",
    "print(\"The Analytical Expected short term rate in\",T_O,\"year is expected to be \", np.round(vasicek.ExpectedRate(0, 1),4))"
   ]
  },
  {
   "cell_type": "markdown",
   "metadata": {},
   "source": [
    "### CIR"
   ]
  },
  {
   "cell_type": "markdown",
   "metadata": {},
   "source": [
    "Let's do the same now with the CIR mode and start by using the analytic expression of a zero coupon bond"
   ]
  },
  {
   "cell_type": "code",
   "execution_count": 32,
   "metadata": {},
   "outputs": [
    {
     "name": "stdout",
     "output_type": "stream",
     "text": [
      "0.8959458667472219\n"
     ]
    }
   ],
   "source": [
    "cir = CIR(theta, kappa, sigma,r0)\n",
    "print(cir.Exact_zcb(0, tau))"
   ]
  },
  {
   "cell_type": "markdown",
   "metadata": {},
   "source": [
    "we can simulate the short rate and calculate the zero coupon bond price"
   ]
  },
  {
   "cell_type": "code",
   "execution_count": 33,
   "metadata": {},
   "outputs": [],
   "source": [
    "# So we always use the same random numbers\n",
    "npr.seed(1500)\n",
    "\n",
    "cir.Euler(M, I, tau)\n",
    "valscir = cir.StochasticPrice(cir.rates, cir.times)"
   ]
  },
  {
   "cell_type": "code",
   "execution_count": 34,
   "metadata": {},
   "outputs": [
    {
     "name": "stdout",
     "output_type": "stream",
     "text": [
      "the price is: 0.8960219968791734\n",
      "the price +2sd is : 0.8961095079164967\n",
      "the price -2sd is : 0.8959344858418501\n"
     ]
    }
   ],
   "source": [
    "print(\"the price is:\", valscir[0])\n",
    "print(\"the price +2sd is :\", valscir[1])\n",
    "print(\"the price -2sd is :\", valscir[2])"
   ]
  },
  {
   "cell_type": "code",
   "execution_count": 35,
   "metadata": {},
   "outputs": [
    {
     "data": {
      "image/png": "[encoded data removed]",
      "text/plain": [
       "<Figure size 432x288 with 1 Axes>"
      ]
     },
     "metadata": {},
     "output_type": "display_data"
    },
    {
     "data": {
      "image/png": "[encoded data removed]",
      "text/plain": [
       "<Figure size 432x288 with 1 Axes>"
      ]
     },
     "metadata": {},
     "output_type": "display_data"
    }
   ],
   "source": [
    "cir.PlotEulerSim_Stats(\"CIR: Simulation vs Analytical\") \n",
    "cir.PlotEulerSim(\"CIR: Simulations\" )"
   ]
  },
  {
   "cell_type": "markdown",
   "metadata": {},
   "source": [
    "### Fitting the Vasicek Model\n",
    "\n",
    "Is it possible to use the Vasicek model so that it can recover quoted Zero Coupon Bond Prices in the market?\n",
    "Well, not really. The vasicek model is such a simple model. \n",
    "Below we try to fit our price data, but our results are disappointing!!\n",
    "\n",
    "First we try to fit $k$ and $\\theta$ keeping them the same across all maturity.\n",
    "\n",
    "Following we also try to use a $ k(t) $ as a function of time, keeping $ \\theta $ as originally used above"
   ]
  },
  {
   "cell_type": "code",
   "execution_count": 36,
   "metadata": {},
   "outputs": [],
   "source": [
    "from scipy import optimize\n",
    "class Fitting_Vasicek(Vasicek):\n",
    "    def __init__(self, theta, kappa, sigma, r0, times, prices):\n",
    "        Vasicek.__init__(self, theta, kappa, sigma, r0)\n",
    "        self.times     = np.array(times)\n",
    "        self.prices    = np.array(prices)\n",
    "         \n",
    "        self.kappatime       = np.zeros(self.prices.size)\n",
    "        self.sim_pricesKappa = np.zeros(self.prices.size)\n",
    "        self.t               = np.zeros(self.prices.size)\n",
    "        \n",
    "    def loss(self, x):\n",
    "        self.theta = x[0]\n",
    "        self.kappa = x[1]           \n",
    "        self.sim_prices = list(map(self.Exact_zcb, self.t, self.times))            \n",
    "        \n",
    "        Tominimize      = 1000*(np.array(self.prices) - np.array(self.sim_prices))\n",
    "        return 10000*np.sum(Tominimize**2)/len(self.times)\n",
    "    \n",
    "    def loss_kappa_t(self, x):\n",
    "        # in this loss function, we assume that the Vasicek model has a kappa(t) \n",
    "        self.kappa                = x[0]           \n",
    "                \n",
    "        self.sim_pricesKappa[self.position] = self.Exact_zcb(0, self.timekappa)\n",
    "        Tominimize                          = 1000*(self.sim_pricesKappa[self.position] - self.tomatch)\n",
    "        return (Tominimize**2)\n",
    "    \n",
    "    def solve(self,x0 = np.random.rand(2)):\n",
    "        self.opt_results = optimize.fmin(self.loss,x0=x0)\n",
    "        self.theta       = self.opt_results[0]\n",
    "        self.kappa       = self.opt_results[1]\n",
    "        \n",
    "        print(\"theta is :\", np.round(self.theta,4), \" \", \"kappa is :\", np.round(self.kappa,4))\n",
    "    \n",
    "    def solve_kappa_t(self, dati):        \n",
    "        for i, (a, b) in enumerate(zip(dati.Time, dati.Prices)):\n",
    "            x0               = np.random.rand(1)\n",
    "            self.timekappa = a\n",
    "            self.tomatch   = b\n",
    "            self.position  = i\n",
    "            x0 = np.random.rand(1)\n",
    "            self.opt_results = optimize.fmin(self.loss_kappa_t, x0=x0)            \n",
    "            self.kappatime[i]= self.opt_results[0]\n",
    "        \n",
    "    def printResult(self):\n",
    "        # Create a zipped list of tuples from above lists\n",
    "        zippedList =  list(zip(self.times, self.prices, self.sim_prices))\n",
    "        df = pd.DataFrame(zippedList,columns=['Times','ImputPrices','SolutionPrices'])\n",
    "        return df\n",
    "    \n",
    "    # alternative\n",
    "    def printResult_2(self):\n",
    "        report = pd.DataFrame(\n",
    "        {'Times': self.times,\n",
    "         'ImputPrices': self.prices,\n",
    "         'SolPrices': self.sim_prices\n",
    "        })\n",
    "        return report\n",
    "\n",
    "    def printResult_kappa(self):\n",
    "        # Create a zipped list of tuples from above lists\n",
    "        zippedList =  list(zip(self.times, self.prices, self.sim_prices, self.sim_pricesKappa, self.kappatime ))\n",
    "        self.df = pd.DataFrame(zippedList,columns=['Times','ImputPrices','SolutionPrices', 'SolPricesKappa', 'Kappas'])\n",
    "        pd.options.display.float_format = '{:.4f}'.format\n",
    "        return self.df"
   ]
  },
  {
   "cell_type": "code",
   "execution_count": 37,
   "metadata": {},
   "outputs": [
    {
     "name": "stdout",
     "output_type": "stream",
     "text": [
      "   Time     Zeros    Prices\n",
      "0   0.5  0.018429  0.990828\n",
      "1   1.0  0.020252  0.979951\n",
      "2   1.5  0.021557  0.968182\n",
      "3   2.0  0.022595  0.955815\n",
      "4   2.5  0.023518  0.942899\n",
      "5   3.0  0.024347  0.929564\n",
      "6   3.5  0.025072  0.915987\n",
      "7   4.0  0.025716  0.902250\n",
      "8   4.5  0.026304  0.888370\n",
      "9   5.0  0.026863  0.874313\n"
     ]
    }
   ],
   "source": [
    "import pandas as pd \n",
    "zeros = pd.read_csv(\"zeros.csv\") \n",
    "print(zeros)\n",
    "#print(zeros[\"Time\"])"
   ]
  },
  {
   "cell_type": "code",
   "execution_count": 38,
   "metadata": {},
   "outputs": [
    {
     "name": "stdout",
     "output_type": "stream",
     "text": [
      "Warning: Maximum number of function evaluations has been exceeded.\n",
      "theta is : 0.0254   kappa is : 22815867647.1957\n",
      "   Times  ImputPrices  SolutionPrices\n",
      "0    0.5     0.990828        0.987379\n",
      "1    1.0     0.979951        0.974917\n",
      "2    1.5     0.968182        0.962613\n",
      "3    2.0     0.955815        0.950463\n",
      "4    2.5     0.942899        0.938467\n",
      "5    3.0     0.929564        0.926623\n",
      "6    3.5     0.915987        0.914928\n",
      "7    4.0     0.902250        0.903380\n",
      "8    4.5     0.888370        0.891979\n",
      "9    5.0     0.874313        0.880721\n"
     ]
    }
   ],
   "source": [
    "r0    = 0.05 # current level of rates\n",
    "kappa = 0.0  # speed of convergence\n",
    "theta = 0.02 # long term rate\n",
    "sigma = 0.021 # vol    \n",
    "tau   = 5    # maturity of the ZCB\n",
    "\n",
    "fitVasicek = Fitting_Vasicek(theta, kappa, sigma,r0,zeros[\"Time\"], zeros[\"Prices\"])\n",
    "fitVasicek.solve()\n",
    "print(fitVasicek.printResult())"
   ]
  },
  {
   "cell_type": "code",
   "execution_count": 39,
   "metadata": {},
   "outputs": [],
   "source": [
    "fitVasicek.theta = 0.02 # long term rate"
   ]
  },
  {
   "cell_type": "code",
   "execution_count": 40,
   "metadata": {},
   "outputs": [
    {
     "name": "stdout",
     "output_type": "stream",
     "text": [
      "Warning: Maximum number of function evaluations has been exceeded.\n",
      "Optimization terminated successfully.\n",
      "         Current function value: 0.000000\n",
      "         Iterations: 33\n",
      "         Function evaluations: 66\n",
      "Optimization terminated successfully.\n",
      "         Current function value: 0.000000\n",
      "         Iterations: 29\n",
      "         Function evaluations: 58\n",
      "Optimization terminated successfully.\n",
      "         Current function value: 0.000000\n",
      "         Iterations: 24\n",
      "         Function evaluations: 48\n",
      "Optimization terminated successfully.\n",
      "         Current function value: 0.000000\n",
      "         Iterations: 20\n",
      "         Function evaluations: 40\n",
      "Optimization terminated successfully.\n",
      "         Current function value: 0.000000\n",
      "         Iterations: 19\n",
      "         Function evaluations: 38\n",
      "Optimization terminated successfully.\n",
      "         Current function value: 0.000000\n",
      "         Iterations: 18\n",
      "         Function evaluations: 36\n",
      "Optimization terminated successfully.\n",
      "         Current function value: 0.000000\n",
      "         Iterations: 21\n",
      "         Function evaluations: 42\n",
      "Optimization terminated successfully.\n",
      "         Current function value: 0.000000\n",
      "         Iterations: 15\n",
      "         Function evaluations: 30\n",
      "Optimization terminated successfully.\n",
      "         Current function value: 0.000001\n",
      "         Iterations: 11\n",
      "         Function evaluations: 22\n",
      "   Times  ImputPrices  SolutionPrices  SolPricesKappa               Kappas\n",
      "0 0.5000       0.9908          0.9874          0.9900 161900286998151.0625\n",
      "1 1.0000       0.9800          0.9749          0.9800             118.9376\n",
      "2 1.5000       0.9682          0.9626          0.9682              12.8355\n",
      "3 2.0000       0.9558          0.9505          0.9558               5.7668\n",
      "4 2.5000       0.9429          0.9385          0.9429               3.3946\n",
      "5 3.0000       0.9296          0.9266          0.9296               2.2808\n",
      "6 3.5000       0.9160          0.9149          0.9160               1.6654\n",
      "7 4.0000       0.9022          0.9034          0.9023               1.2830\n",
      "8 4.5000       0.8884          0.8920          0.8884               1.0238\n",
      "9 5.0000       0.8743          0.8807          0.8743               0.8359\n"
     ]
    }
   ],
   "source": [
    "fitVasicek.solve_kappa_t(zeros)\n",
    "print(fitVasicek.printResult_kappa())"
   ]
  },
  {
   "cell_type": "code",
   "execution_count": 41,
   "metadata": {},
   "outputs": [
    {
     "data": {
      "image/png": "[encoded data removed]",
      "text/plain": [
       "<Figure size 1152x288 with 1 Axes>"
      ]
     },
     "metadata": {},
     "output_type": "display_data"
    }
   ],
   "source": [
    "plt.figure(figsize=(16,4))\n",
    "\n",
    "plt.plot(fitVasicek.df.Times, fitVasicek.df.ImputPrices, marker='*',    label = \"Original Prices\")\n",
    "plt.plot(fitVasicek.df.Times, fitVasicek.df.SolutionPrices, marker='.', label = r\"Solution Prices fitting $\\theta$ and $k$\")\n",
    "plt.plot(fitVasicek.df.Times, fitVasicek.df.SolPricesKappa, marker='*', label = r\"Solution Prices with $\\theta(t)$\")\n",
    "plt.xlabel(r'Maturity $T$ ')\n",
    "plt.title(r'Fitting Prices with Vasicek Model')\n",
    "plt.grid(True)\n",
    "plt.legend()\n",
    "plt.ylabel('Prices')\n",
    "\n",
    "plt.show()\n"
   ]
  }
 ],
 "metadata": {
  "kernelspec": {
   "display_name": "Python 3",
   "language": "python",
   "name": "python3"
  },
  "language_info": {
   "codemirror_mode": {
    "name": "ipython",
    "version": 3
   },
   "file_extension": ".py",
   "mimetype": "text/x-python",
   "name": "python",
   "nbconvert_exporter": "python",
   "pygments_lexer": "ipython3",
   "version": "3.6.4"
  }
 },
 "nbformat": 4,
 "nbformat_minor": 2
}
